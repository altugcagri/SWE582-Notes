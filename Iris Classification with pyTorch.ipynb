{
 "cells": [
  {
   "cell_type": "code",
   "execution_count": 1,
   "metadata": {},
   "outputs": [],
   "source": [
    "import numpy as np\n",
    "import pandas as pd\n",
    "import matplotlib.pyplot as plt\n",
    "import torch\n",
    "import torch.autograd\n",
    "from torch.autograd import Variable\n",
    "\n",
    "\n",
    "\n",
    "df_iris = pd.read_csv(u'data/iris.txt',sep=' ')\n",
    "df_iris\n",
    "\n",
    "fields = ['sl','sw','pl','pw','c']\n",
    "\n",
    "N = len(fields)\n",
    "degree = 3\n",
    "\n",
    "features_array = np.array(df_iris[fields[0:4]])\n",
    "target_array = np.array(df_iris[fields[4]])\n",
    "\n",
    "features = Variable(torch.from_numpy(features_array).double())\n",
    "target = Variable(torch.from_numpy(target_array).double())\n",
    "w = Variable(torch.randn(degree+1).double(), requires_grad=True)\n",
    "\n",
    "\n",
    "\n",
    "eta =  0.0001\n"
   ]
  },
  {
   "cell_type": "code",
   "execution_count": 2,
   "metadata": {},
   "outputs": [
    {
     "name": "stdout",
     "output_type": "stream",
     "text": [
      "0 : 31136.334639008935\n",
      "1000 : 10.27911625627928\n",
      "2000 : 8.97765703682064\n",
      "3000 : 8.680556987876843\n",
      "4000 : 8.60837181642515\n",
      "5000 : 8.590795753632438\n",
      "6000 : 8.586515928918145\n",
      "7000 : 8.585473776144507\n",
      "8000 : 8.58522000816087\n",
      "9000 : 8.585158214735463\n",
      "9999 : 8.585143174658684 tensor([0.0658, 0.0612, 0.2031, 0.5476], dtype=torch.float64, requires_grad=True)\n"
     ]
    }
   ],
   "source": [
    "for epoch in range(10000):\n",
    "    ## Compute the forward pass\n",
    "    f = torch.matmul(features, w)\n",
    "    #print(f)\n",
    "    E = torch.sum((target-f)**2)\n",
    "\n",
    "    if epoch%1000 == 0: \n",
    "        print(epoch,':',E.item())\n",
    "\n",
    "    # Compute the gradients by automated differentiation\n",
    "    E.backward()\n",
    "    \n",
    "    # For each adjustable parameter \n",
    "    # Move along the negative gradient direction\n",
    "    w.data.add_(-eta * w.grad.data)\n",
    "    #print(w.grad.data)\n",
    "    \n",
    "    # Reset the gradients, as otherwise they are accumulated in param.grad\n",
    "    w.grad.zero_()\n",
    "    \n",
    "print(epoch,':',E.item(),w)"
   ]
  },
  {
   "cell_type": "code",
   "execution_count": 49,
   "metadata": {},
   "outputs": [
    {
     "name": "stdout",
     "output_type": "stream",
     "text": [
      "[[50.  0.  0.]\n",
      " [ 0. 48.  2.]\n",
      " [ 0.  4. 46.]]\n",
      "Accuracy: 96.0 %\n"
     ]
    },
    {
     "data": {
      "image/png": "[encoded data removed]",
      "text/plain": [
       "<Figure size 432x288 with 1 Axes>"
      ]
     },
     "metadata": {
      "needs_background": "light"
     },
     "output_type": "display_data"
    }
   ],
   "source": [
    "result = torch.matmul(features, w).round()\n",
    "\n",
    "plt.plot(result.data.numpy().squeeze(),'o')\n",
    "plt.plot(target.data.numpy().squeeze(),'.')\n",
    "plt.show\n",
    "\n",
    "confusion_matrix = np.zeros((3,3))\n",
    "\n",
    "for i in range(len(result)):\n",
    "    confusion_matrix[int(target[i] - 1), int(result[i] - 1)] += 1\n",
    "    \n",
    "print(confusion_matrix)\n",
    "\n",
    "accuracy = np.sum(np.diag(confusion_matrix))/np.sum(confusion_matrix)\n",
    "\n",
    "print(\"Accuracy:\", accuracy*100, \"%\")"
   ]
  },
  {
   "cell_type": "code",
   "execution_count": null,
   "metadata": {},
   "outputs": [],
   "source": []
  }
 ],
 "metadata": {
  "kernelspec": {
   "display_name": "Python 3",
   "language": "python",
   "name": "python3"
  },
  "language_info": {
   "codemirror_mode": {
    "name": "ipython",
    "version": 3
   },
   "file_extension": ".py",
   "mimetype": "text/x-python",
   "name": "python",
   "nbconvert_exporter": "python",
   "pygments_lexer": "ipython3",
   "version": "3.7.0"
  }
 },
 "nbformat": 4,
 "nbformat_minor": 2
}
