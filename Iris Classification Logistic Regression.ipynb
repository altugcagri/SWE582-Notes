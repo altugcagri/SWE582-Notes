{
 "cells": [
  {
   "cell_type": "code",
   "execution_count": 102,
   "metadata": {},
   "outputs": [],
   "source": [
    "import numpy as np\n",
    "import pandas as pd\n",
    "import matplotlib.pyplot as plt\n",
    "\n",
    "\n",
    "df_iris = pd.read_csv(u'data/iris.txt',sep=' ')\n",
    "df_iris\n",
    "\n",
    "fields = ['sl','sw','pl','pw','c']\n",
    "\n",
    "features = np.array(df_iris[fields[0:4]])\n",
    "target = np.array(df_iris[fields[4]])\n",
    "target[target>1] = 0\n",
    "\n",
    "w = np.random.randn(4)\n",
    "eta = 0.001\n",
    "\n",
    "\n",
    "def sigmoid(x):\n",
    "    return 1/(1 + np.exp(-x))\n",
    "\n",
    "def f(x, w):\n",
    "    return sigmoid(x.dot(w))"
   ]
  },
  {
   "cell_type": "code",
   "execution_count": 103,
   "metadata": {},
   "outputs": [
    {
     "name": "stdout",
     "output_type": "stream",
     "text": [
      "0 : -468.16794272399994\n",
      "1000 : 0.37991948921196317\n",
      "2000 : 0.20111279040434843\n",
      "3000 : 0.13874167898353243\n",
      "4000 : 0.10665246423296204\n",
      "5000 : 0.08698513837578499\n",
      "6000 : 0.073648032573388\n",
      "7000 : 0.06398445425003105\n",
      "8000 : 0.0566469839013089\n",
      "9000 : 0.05087792566430001\n",
      "[ 1.00886664  2.87701631 -4.45580191 -2.76768126]\n"
     ]
    }
   ],
   "source": [
    "for epoch in range(10000):\n",
    "    f_est = f(features, w)\n",
    "    dE = -(target-f_est).dot(features)\n",
    "    w = w - eta * dE\n",
    "    \n",
    "            \n",
    "    if epoch%1000 == 0: \n",
    "        print(epoch,':',np.sum(dE))\n",
    "    \n",
    "print(w)"
   ]
  },
  {
   "cell_type": "code",
   "execution_count": 104,
   "metadata": {},
   "outputs": [
    {
     "data": {
      "text/plain": [
       "<function matplotlib.pyplot.show(*args, **kw)>"
      ]
     },
     "execution_count": 104,
     "metadata": {},
     "output_type": "execute_result"
    },
    {
     "data": {
      "image/png": "[encoded data removed]",
      "text/plain": [
       "<Figure size 432x288 with 1 Axes>"
      ]
     },
     "metadata": {
      "needs_background": "light"
     },
     "output_type": "display_data"
    }
   ],
   "source": [
    "result = f(features,w)\n",
    "\n",
    "\n",
    "plt.plot(result,'o')\n",
    "plt.plot(target,'.')\n",
    "plt.show"
   ]
  }
 ],
 "metadata": {
  "kernelspec": {
   "display_name": "Python 3",
   "language": "python",
   "name": "python3"
  },
  "language_info": {
   "codemirror_mode": {
    "name": "ipython",
    "version": 3
   },
   "file_extension": ".py",
   "mimetype": "text/x-python",
   "name": "python",
   "nbconvert_exporter": "python",
   "pygments_lexer": "ipython3",
   "version": "3.7.0"
  }
 },
 "nbformat": 4,
 "nbformat_minor": 2
}
