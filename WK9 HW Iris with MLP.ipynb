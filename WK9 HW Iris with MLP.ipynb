{
 "cells": [
  {
   "cell_type": "code",
   "execution_count": 19,
   "metadata": {},
   "outputs": [
    {
     "data": {
      "text/plain": [
       "<function matplotlib.pyplot.show(*args, **kw)>"
      ]
     },
     "execution_count": 19,
     "metadata": {},
     "output_type": "execute_result"
    },
    {
     "data": {
      "image/png": "[encoded data removed]",
      "text/plain": [
       "<Figure size 432x288 with 1 Axes>"
      ]
     },
     "metadata": {
      "needs_background": "light"
     },
     "output_type": "display_data"
    }
   ],
   "source": [
    "import matplotlib as mpl\n",
    "import matplotlib.pyplot as plt\n",
    "import numpy as np\n",
    "import pandas as pd\n",
    "\n",
    "\n",
    "import torch\n",
    "import torch.autograd\n",
    "from torch.autograd import Variable\n",
    "\n",
    "# The sizes of layers from input to output\n",
    "sizes = [4,2,1]\n",
    "#sizes = [1,2,1]\n",
    "#x = Variable(torch.randn(sizes[0],1).double(), requires_grad=True)\n",
    "\n",
    "# Generate the network\n",
    "g = torch.sigmoid\n",
    "\n",
    "\n",
    "D = len(sizes)\n",
    "Weight = []\n",
    "Bias = []\n",
    "Func = []\n",
    "\n",
    "for i in range(D-1):\n",
    "    \n",
    "    # For layer i, Weights are a S_{i+1} \\times S_{i} matrix\n",
    "    W = Variable(torch.randn(sizes[i+1],sizes[i]).double(), requires_grad=True)\n",
    "    # For layer i, Biases are a S_{i+1} \\times 1 matrix (a vector)\n",
    "    b = Variable(torch.randn(sizes[i+1],1).double(), requires_grad=True)\n",
    "\n",
    "    Weight.append(W)\n",
    "    Bias.append(b)\n",
    "    Func.append(g)\n",
    "\n",
    "    \n",
    "# Define the exact functional form\n",
    "def mlp_fun(x, Weight, Bias, Func):\n",
    "    f = Variable(x, requires_grad=False).reshape(sizes[0], 1)\n",
    "    NumOfLayers = len(Weight)\n",
    "    for i in range(NumOfLayers):\n",
    "        f = torch.matmul(Weight[i], f)\n",
    "        f = Func[i](f + Bias[i])\n",
    "    return f\n",
    "\n",
    "df_iris = pd.read_csv(u'data/iris.txt',sep=' ')\n",
    "fields = ['sl','sw','pl','pw','c']\n",
    "\n",
    "features = np.array(df_iris[fields[0:4]])\n",
    "target = np.array(df_iris[fields[4]])\n",
    "target[target > 1] = 0\n",
    "\n",
    "features = Variable(torch.from_numpy(features).double(),requires_grad=False)\n",
    "target = Variable(torch.from_numpy(target).double(),requires_grad=False)\n",
    "\n",
    "Result = []\n",
    "\n",
    "for i in range(len(features)):\n",
    "    f = mlp_fun(features[i,:], Weight, Bias, Func)\n",
    "    Result.append(f)\n",
    "\n",
    "plt.plot(Result,'o')\n",
    "plt.plot(target.data.numpy().squeeze(),'.')\n",
    "plt.show\n"
   ]
  },
  {
   "cell_type": "code",
   "execution_count": 20,
   "metadata": {},
   "outputs": [
    {
     "name": "stderr",
     "output_type": "stream",
     "text": [
      "/Users/onurasiliskender/anaconda3/lib/python3.7/site-packages/torch/nn/functional.py:52: UserWarning: size_average and reduce args will be deprecated, please use reduction='elementwise_mean' instead.\n",
      "  warnings.warn(warning.format(ret))\n"
     ]
    },
    {
     "name": "stdout",
     "output_type": "stream",
     "text": [
      "0 : 1.0671370203783426\n",
      "1000 : 0.6950243548981315\n",
      "2000 : 0.6940610736219106\n",
      "3000 : 0.6937510246477739\n",
      "4000 : 0.6935981510751698\n"
     ]
    },
    {
     "data": {
      "image/png": "[encoded data removed]",
      "text/plain": [
       "<Figure size 432x288 with 1 Axes>"
      ]
     },
     "metadata": {
      "needs_background": "light"
     },
     "output_type": "display_data"
    }
   ],
   "source": [
    "eta = 0.005\n",
    "MAX_ITER = 5000\n",
    "EE = []\n",
    "Error = torch.nn.BCELoss(reduction='elementwise_mean')\n",
    "N= 150\n",
    "BatchSize = min(10, N)\n",
    "\n",
    "\n",
    "for epoch in range(MAX_ITER):\n",
    "\n",
    "    idx = np.random.choice(N, size=BatchSize, replace=False)    \n",
    "    for i in range(len(features)):\n",
    "        \n",
    "        #r = idx[i]\n",
    "        r = i\n",
    "\n",
    "        f = mlp_fun(torch.DoubleTensor(features[r,:]), Weight, Bias, Func)\n",
    "\n",
    "        #E = Error(f, target[r].reshape(sizes[-1], 1))\n",
    "\n",
    "        E = -target[r]*f + torch.log(1+torch.exp(f))\n",
    "        \n",
    "\n",
    "        \n",
    "        E.backward()\n",
    "\n",
    "        for i in range(D-1):\n",
    "            Weight[i].data.add_(-eta*Weight[i].grad.data)\n",
    "            Bias[i].data.add_(-eta*Bias[i].grad.data)\n",
    "            Weight[i].grad.zero_()\n",
    "            Bias[i].grad.zero_()\n",
    "    \n",
    "    EE.append(E.data.numpy())\n",
    "\n",
    "    \n",
    "    if epoch%1000 == 0: \n",
    "        print(epoch,':',E.item())\n",
    "\n",
    "EE = np.squeeze(EE, axis=(2,))\n",
    "plt.plot(EE)\n",
    "plt.show()"
   ]
  },
  {
   "cell_type": "code",
   "execution_count": 21,
   "metadata": {},
   "outputs": [
    {
     "data": {
      "text/plain": [
       "<function matplotlib.pyplot.show(*args, **kw)>"
      ]
     },
     "execution_count": 21,
     "metadata": {},
     "output_type": "execute_result"
    },
    {
     "data": {
      "image/png": "[encoded data removed]",
      "text/plain": [
       "<Figure size 432x288 with 1 Axes>"
      ]
     },
     "metadata": {
      "needs_background": "light"
     },
     "output_type": "display_data"
    }
   ],
   "source": [
    "ResultFinal = []\n",
    "\n",
    "for i in range(len(features)):\n",
    "    f = mlp_fun(features[i,:], Weight, Bias, Func)\n",
    "    #ResultFinal.append(f.round())\n",
    "    ResultFinal.append(f)\n",
    "\n",
    "\n",
    "\n",
    "\n",
    "plt.plot(ResultFinal,'o')\n",
    "plt.plot(target.data.numpy().squeeze(),'.')\n",
    "plt.show\n",
    "\n",
    "\n",
    "#confusion_matrix = np.zeros((2,2))\n",
    "\n",
    "#for i in range(len(Result)):\n",
    "#    confusion_matrix[int(target[i]), int(Result[i])] += 1\n",
    "    \n",
    "#print(confusion_matrix)\n",
    "\n",
    "#accuracy = np.sum(np.diag(confusion_matrix))/np.sum(confusion_matrix)\n",
    "\n",
    "#print(\"Accuracy:\", accuracy*100, \"%\")\n"
   ]
  }
 ],
 "metadata": {
  "kernelspec": {
   "display_name": "Python 3",
   "language": "python",
   "name": "python3"
  },
  "language_info": {
   "codemirror_mode": {
    "name": "ipython",
    "version": 3
   },
   "file_extension": ".py",
   "mimetype": "text/x-python",
   "name": "python",
   "nbconvert_exporter": "python",
   "pygments_lexer": "ipython3",
   "version": "3.7.0"
  }
 },
 "nbformat": 4,
 "nbformat_minor": 2
}
