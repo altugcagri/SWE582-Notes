{
 "cells": [
  {
   "cell_type": "code",
   "execution_count": 19,
   "metadata": {
    "scrolled": true
   },
   "outputs": [],
   "source": [
    "import numpy as np\n",
    "import pandas as pd\n",
    "import matplotlib.pyplot as plt\n",
    "import torch\n",
    "import torch.autograd\n",
    "from torch.autograd import Variable\n",
    "\n",
    "df_wine = pd.read_csv(\"data/winequality-red.csv\",sep=';')\n",
    "fields = ['fixed acidity','volatile acidity','citric acid','residual sugar','chlorides','free sulfur dioxide','total sulfur dioxide','density','pH','sulphates','alcohol','quality']\n",
    "\n",
    "N = len(fields)\n",
    "degree = 10\n",
    "\n",
    "features_array = np.array(df_wine[fields[0:11]])\n",
    "target_array = np.array(df_wine[fields[11]])\n",
    "\n",
    "features = Variable(torch.from_numpy(features_array).double())\n",
    "target = Variable(torch.from_numpy(target_array).double())\n",
    "w = Variable(torch.randn(degree+1).double(), requires_grad=True)\n",
    "\n",
    "eta = 0.00000003\n"
   ]
  },
  {
   "cell_type": "code",
   "execution_count": 24,
   "metadata": {},
   "outputs": [
    {
     "name": "stdout",
     "output_type": "stream",
     "text": [
      "0 : 56.61278334077283\n",
      "100000 : 56.61166424594946\n",
      "200000 : 56.61054654446492\n",
      "300000 : 56.609430234048\n",
      "400000 : 56.608315312433696\n",
      "500000 : 56.607201777362995\n",
      "600000 : 56.60608962658304\n",
      "700000 : 56.60497885784691\n",
      "800000 : 56.60386946891356\n",
      "900000 : 56.602761457548134\n",
      "999999 : 56.60165483258089 tensor([ 0.0628, -1.1989, -0.3292,  0.0055, -0.4204,  0.0034, -0.0023,  1.4447,\n",
      "         0.1954,  0.8015,  0.3161], dtype=torch.float64, requires_grad=True)\n"
     ]
    }
   ],
   "source": [
    "for epoch in range(1000000):\n",
    "    ## Compute the forward pass\n",
    "    f = torch.matmul(features, w)\n",
    "    #print(f)\n",
    "    E = torch.sum((target-f)**2)/N\n",
    "\n",
    "    if epoch%100000 == 0: \n",
    "        print(epoch,':',E.item())\n",
    "\n",
    "    # Compute the gradients by automated differentiation\n",
    "    E.backward()\n",
    "    \n",
    "    # For each adjustable parameter \n",
    "    # Move along the negative gradient direction\n",
    "    w.data.add_(-eta * w.grad.data)\n",
    "    #print(w.grad.data)\n",
    "    \n",
    "    # Reset the gradients, as otherwise they are accumulated in param.grad\n",
    "    w.grad.zero_()\n",
    "    \n",
    "print(epoch,':',E.item(),w)"
   ]
  },
  {
   "cell_type": "code",
   "execution_count": 32,
   "metadata": {
    "scrolled": true
   },
   "outputs": [
    {
     "name": "stdout",
     "output_type": "stream",
     "text": [
      "[[  0.   0.   0.   0.   0.   0.   0.   0.   0.   0.]\n",
      " [  0.   0.   0.   0.   0.   0.   0.   0.   0.   0.]\n",
      " [  0.   0.   0.   1.   8.   1.   0.   0.   0.   0.]\n",
      " [  0.   0.   0.   1.  34.  18.   0.   0.   0.   0.]\n",
      " [  0.   0.   0.   2. 480. 196.   2.   1.   0.   0.]\n",
      " [  0.   0.   0.   0. 193. 419.  26.   0.   0.   0.]\n",
      " [  0.   0.   0.   0.   6. 153.  40.   0.   0.   0.]\n",
      " [  0.   0.   0.   0.   0.  13.   5.   0.   0.   0.]\n",
      " [  0.   0.   0.   0.   0.   0.   0.   0.   0.   0.]\n",
      " [  0.   0.   0.   0.   0.   0.   0.   0.   0.   0.]]\n"
     ]
    },
    {
     "data": {
      "image/png": "[encoded data removed]",
      "text/plain": [
       "<Figure size 432x288 with 1 Axes>"
      ]
     },
     "metadata": {
      "needs_background": "light"
     },
     "output_type": "display_data"
    }
   ],
   "source": [
    "result = torch.matmul(features, w).round()\n",
    "\n",
    "plt.plot(result.data.numpy().squeeze(),'o')\n",
    "plt.plot(target.data.numpy().squeeze(),'.')\n",
    "plt.show\n",
    "\n",
    "confusion_matrix = np.zeros((10,10))\n",
    "\n",
    "for i in range(len(result)):\n",
    "    confusion_matrix[int(target[i] - 1), int(result[i] - 1)] += 1\n",
    "    \n",
    "print(confusion_matrix)"
   ]
  },
  {
   "cell_type": "code",
   "execution_count": 23,
   "metadata": {},
   "outputs": [
    {
     "name": "stdout",
     "output_type": "stream",
     "text": [
      "Accuracy: 58.786741713570976 %\n"
     ]
    }
   ],
   "source": [
    "accuracy = np.sum(np.diag(confusion_matrix))/np.sum(confusion_matrix)\n",
    "\n",
    "print(\"Accuracy:\", accuracy*100, \"%\")"
   ]
  },
  {
   "cell_type": "code",
   "execution_count": null,
   "metadata": {},
   "outputs": [],
   "source": []
  },
  {
   "cell_type": "code",
   "execution_count": null,
   "metadata": {},
   "outputs": [],
   "source": []
  }
 ],
 "metadata": {
  "kernelspec": {
   "display_name": "Python 3",
   "language": "python",
   "name": "python3"
  },
  "language_info": {
   "codemirror_mode": {
    "name": "ipython",
    "version": 3
   },
   "file_extension": ".py",
   "mimetype": "text/x-python",
   "name": "python",
   "nbconvert_exporter": "python",
   "pygments_lexer": "ipython3",
   "version": "3.7.0"
  }
 },
 "nbformat": 4,
 "nbformat_minor": 2
}
